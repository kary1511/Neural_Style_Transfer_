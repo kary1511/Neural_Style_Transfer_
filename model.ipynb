{
 "cells": [
  {
   "cell_type": "code",
   "execution_count": 1,
   "metadata": {},
   "outputs": [],
   "source": [
    "import os\n",
    "import sys\n",
    "import scipy.io\n",
    "import imageio\n",
    "import scipy.misc\n",
    "from scipy import io\n",
    "import matplotlib.pyplot as plt\n",
    "from matplotlib.pyplot import imshow\n",
    "from PIL import Image\n",
    "import numpy as np\n",
    "import pprint                  #to format printing of the vgg model\n",
    "%matplotlib inline\n",
    "import tensorflow.compat.v1 as tf\n",
    "from utils import *"
   ]
  },
  {
   "cell_type": "code",
   "execution_count": 5,
   "metadata": {},
   "outputs": [],
   "source": [
    "def total_style_cost(STYLE_LAYERS,model):\n",
    "    J_style_total=0\n",
    "    for layer,coeff in STYLE_LAYERS:\n",
    "        a_S=sess.run(model[layer])\n",
    "        a_G=model[layer]\n",
    "        layer_cost=layer_style_cost(a_S,a_G)\n",
    "        J_style_total+=coeff*layer_cost\n",
    "    return J_style_total"
   ]
  },
  {
   "cell_type": "code",
   "execution_count": 123,
   "metadata": {},
   "outputs": [],
   "source": [
    "tf.compat.v1.disable_eager_execution()\n",
    "tf.compat.v1.reset_default_graph()\n",
    "sess=tf.compat.v1.InteractiveSession()"
   ]
  },
  {
   "cell_type": "code",
   "execution_count": 124,
   "metadata": {},
   "outputs": [],
   "source": [
    "def load_vgg_model(path):\n",
    "    vgg = io.loadmat(path)\n",
    "    vgg_layers = vgg['layers']\n",
    "    def _weights(layer, expected_layer_name):\n",
    "        wb = vgg_layers[0][layer][0][0][2]\n",
    "        W = wb[0][0]\n",
    "        b = wb[0][1]\n",
    "        layer_name = vgg_layers[0][layer][0][0][0][0]\n",
    "        assert layer_name == expected_layer_name\n",
    "        return W, b\n",
    "        return W, b\n",
    "    def _relu(conv2d_layer):\n",
    "        return tf.nn.relu(conv2d_layer)\n",
    "    def _conv2d(prev_layer, layer, layer_name):    \n",
    "        W, b = _weights(layer, layer_name)\n",
    "        W = tf.constant(W)\n",
    "        b = tf.constant(np.reshape(b, (b.size)))\n",
    "        return tf.nn.conv2d(prev_layer, filters=W, strides=[1, 1, 1, 1], padding='SAME') + b\n",
    "    def _conv2d_relu(prev_layer, layer, layer_name):\n",
    "        return _relu(_conv2d(prev_layer, layer, layer_name))\n",
    "    \n",
    "    def _avgpool(prev_layer):\n",
    "        return tf.nn.avg_pool(prev_layer, ksize=[1, 2, 2, 1], strides=[1, 2, 2, 1], padding='SAME')\n",
    "    \n",
    "    # Constructs the graph model.\n",
    "    graph = {}\n",
    "    graph['input']   = tf.Variable(np.zeros((1, CONFIG.IMAGE_HEIGHT, CONFIG.IMAGE_WIDTH, CONFIG.COLOR_CHANNELS)), dtype = 'float32')\n",
    "    graph['conv1_1']  = _conv2d_relu(graph['input'], 0, 'conv1_1')\n",
    "    graph['conv1_2']  = _conv2d_relu(graph['conv1_1'], 2, 'conv1_2')\n",
    "    graph['avgpool1'] = _avgpool(graph['conv1_2'])\n",
    "    graph['conv2_1']  = _conv2d_relu(graph['avgpool1'], 5, 'conv2_1')\n",
    "    graph['conv2_2']  = _conv2d_relu(graph['conv2_1'], 7, 'conv2_2')\n",
    "    graph['avgpool2'] = _avgpool(graph['conv2_2'])\n",
    "    graph['conv3_1']  = _conv2d_relu(graph['avgpool2'], 10, 'conv3_1')\n",
    "    graph['conv3_2']  = _conv2d_relu(graph['conv3_1'], 12, 'conv3_2')\n",
    "    graph['conv3_3']  = _conv2d_relu(graph['conv3_2'], 14, 'conv3_3')\n",
    "    graph['conv3_4']  = _conv2d_relu(graph['conv3_3'], 16, 'conv3_4')\n",
    "    graph['avgpool3'] = _avgpool(graph['conv3_4'])\n",
    "    graph['conv4_1']  = _conv2d_relu(graph['avgpool3'], 19, 'conv4_1')\n",
    "    graph['conv4_2']  = _conv2d_relu(graph['conv4_1'], 21, 'conv4_2')\n",
    "    graph['conv4_3']  = _conv2d_relu(graph['conv4_2'], 23, 'conv4_3')\n",
    "    graph['conv4_4']  = _conv2d_relu(graph['conv4_3'], 25, 'conv4_4')\n",
    "    graph['avgpool4'] = _avgpool(graph['conv4_4'])\n",
    "    graph['conv5_1']  = _conv2d_relu(graph['avgpool4'], 28, 'conv5_1')\n",
    "    graph['conv5_2']  = _conv2d_relu(graph['conv5_1'], 30, 'conv5_2')\n",
    "    graph['conv5_3']  = _conv2d_relu(graph['conv5_2'], 32, 'conv5_3')\n",
    "    graph['conv5_4']  = _conv2d_relu(graph['conv5_3'], 34, 'conv5_4')\n",
    "    graph['avgpool5'] = _avgpool(graph['conv5_4'])\n",
    "    \n",
    "    return graph"
   ]
  },
  {
   "cell_type": "code",
   "execution_count": 125,
   "metadata": {},
   "outputs": [],
   "source": [
    "model=load_vgg_model('model_pretrained/imagenet-vgg-verydeep-19.mat')"
   ]
  },
  {
   "cell_type": "code",
   "execution_count": 133,
   "metadata": {},
   "outputs": [
    {
     "name": "stderr",
     "output_type": "stream",
     "text": [
      "C:\\Users\\kary1\\AppData\\Local\\Temp\\ipykernel_31164\\577542952.py:1: DeprecationWarning: Starting with ImageIO v3 the behavior of this function will switch to that of iio.v3.imread. To keep the current behavior (and make this warning disappear) use `import imageio.v2 as imageio` or call `imageio.v2.imread` directly.\n",
      "  content_image=imageio.imread('images/camp-nou.jpg')\n"
     ]
    }
   ],
   "source": [
    "content_image=imageio.imread('images/camp-nou.jpg')\n",
    "content_image=resize_and_normalize(content_image)"
   ]
  },
  {
   "cell_type": "code",
   "execution_count": 134,
   "metadata": {},
   "outputs": [],
   "source": [
    "sess.run(model['input'].assign(content_image))\n",
    "a_C=sess.run(model['conv4_2'])\n",
    "a_G=model['conv4_2']\n",
    "cont_cost=content_cost(a_C,a_G)"
   ]
  },
  {
   "cell_type": "code",
   "execution_count": 135,
   "metadata": {},
   "outputs": [
    {
     "name": "stderr",
     "output_type": "stream",
     "text": [
      "C:\\Users\\kary1\\AppData\\Local\\Temp\\ipykernel_31164\\2597654123.py:1: DeprecationWarning: Starting with ImageIO v3 the behavior of this function will switch to that of iio.v3.imread. To keep the current behavior (and make this warning disappear) use `import imageio.v2 as imageio` or call `imageio.v2.imread` directly.\n",
      "  style_image=imageio.imread('images/drop-of-water.jpg')\n"
     ]
    }
   ],
   "source": [
    "style_image=imageio.imread('images/drop-of-water.jpg')\n",
    "style_image=resize_and_normalize(style_image)"
   ]
  },
  {
   "cell_type": "code",
   "execution_count": 136,
   "metadata": {},
   "outputs": [],
   "source": [
    "sess.run(model['input'].assign(style_image))\n",
    "style_cost=total_style_cost(STYLE_LAYERS,model)"
   ]
  },
  {
   "cell_type": "code",
   "execution_count": 137,
   "metadata": {},
   "outputs": [],
   "source": [
    "alpha=40\n",
    "beta=10"
   ]
  },
  {
   "cell_type": "code",
   "execution_count": 138,
   "metadata": {},
   "outputs": [],
   "source": [
    "J=total_cost(cont_cost,style_cost,alpha,beta)"
   ]
  },
  {
   "cell_type": "code",
   "execution_count": 139,
   "metadata": {},
   "outputs": [],
   "source": [
    "optimizer=tf.compat.v1.train.AdamOptimizer(2)\n",
    "train_step=optimizer.minimize(J)"
   ]
  },
  {
   "cell_type": "code",
   "execution_count": 140,
   "metadata": {},
   "outputs": [
    {
     "name": "stderr",
     "output_type": "stream",
     "text": [
      "C:\\Users\\kary1\\AppData\\Local\\Temp\\ipykernel_31164\\3295251339.py:1: DeprecationWarning: Starting with ImageIO v3 the behavior of this function will switch to that of iio.v3.imread. To keep the current behavior (and make this warning disappear) use `import imageio.v2 as imageio` or call `imageio.v2.imread` directly.\n",
      "  cont=imageio.imread('images/camp-nou.jpg')\n"
     ]
    }
   ],
   "source": [
    "cont=imageio.imread('images/camp-nou.jpg')\n",
    "generated_image=generate_noise_image(cont,noise_ratio=.5)\n",
    "generated_image=resize_and_normalize(generated_image)"
   ]
  },
  {
   "cell_type": "code",
   "execution_count": 141,
   "metadata": {},
   "outputs": [],
   "source": [
    "def train(sess,input_image,num_iters=1000):\n",
    "    sess.run(tf.compat.v1.global_variables_initializer())\n",
    "    sess.run(model['input'].assign(input_image))\n",
    "    generated_im=input_image\n",
    "    for i in range(num_iters):\n",
    "        sess.run(train_step)\n",
    "        generated_im=sess.run(model['input'])\n",
    "        if i%100==0:\n",
    "            Jt, Jc, Js = sess.run([J, cont_cost, style_cost])\n",
    "            print(\"Iteration \" + str(i) + \" :\")\n",
    "            print(\"total cost = \" + str(Jt))\n",
    "            print(\"content cost = \" + str(Jc))\n",
    "            print(\"style cost = \" + str(Js))\n",
    "\n",
    "            save_image('generated/'+str(i)+'.png',generated_im)\n",
    "    save_image('generated/final_image.png',generated_im)"
   ]
  },
  {
   "cell_type": "code",
   "execution_count": 142,
   "metadata": {},
   "outputs": [
    {
     "name": "stdout",
     "output_type": "stream",
     "text": [
      "Iteration 0 :\n",
      "total cost = 8.777952e+21\n",
      "content cost = 13645177000.0\n",
      "style cost = 8.777952e+20\n",
      "Iteration 100 :\n",
      "total cost = 4.9697534e+19\n",
      "content cost = 40243413000.0\n",
      "style cost = 4.9697535e+18\n",
      "Iteration 200 :\n",
      "total cost = 1.8949487e+19\n",
      "content cost = 44396302000.0\n",
      "style cost = 1.8949485e+18\n",
      "Iteration 300 :\n",
      "total cost = 1.3848478e+19\n",
      "content cost = 46152315000.0\n",
      "style cost = 1.3848475e+18\n",
      "Iteration 400 :\n",
      "total cost = 1.1136918e+19\n",
      "content cost = 47292207000.0\n",
      "style cost = 1.1136916e+18\n",
      "Iteration 500 :\n",
      "total cost = 9.266377e+18\n",
      "content cost = 48208933000.0\n",
      "style cost = 9.266375e+17\n",
      "Iteration 600 :\n",
      "total cost = 7.853351e+18\n",
      "content cost = 48989532000.0\n",
      "style cost = 7.8533484e+17\n",
      "Iteration 700 :\n",
      "total cost = 6.752369e+18\n",
      "content cost = 49706000000.0\n",
      "style cost = 6.752367e+17\n",
      "Iteration 800 :\n",
      "total cost = 5.8805576e+18\n",
      "content cost = 50377000000.0\n",
      "style cost = 5.880555e+17\n",
      "Iteration 900 :\n",
      "total cost = 5.183232e+18\n",
      "content cost = 51036676000.0\n",
      "style cost = 5.1832298e+17\n"
     ]
    }
   ],
   "source": [
    "train(sess,generated_image)"
   ]
  }
 ],
 "metadata": {
  "kernelspec": {
   "display_name": "Python 3",
   "language": "python",
   "name": "python3"
  },
  "language_info": {
   "codemirror_mode": {
    "name": "ipython",
    "version": 3
   },
   "file_extension": ".py",
   "mimetype": "text/x-python",
   "name": "python",
   "nbconvert_exporter": "python",
   "pygments_lexer": "ipython3",
   "version": "3.12.1"
  }
 },
 "nbformat": 4,
 "nbformat_minor": 2
}
